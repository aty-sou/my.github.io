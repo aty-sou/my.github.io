{
 "cells": [
  {
   "cell_type": "code",
   "execution_count": 3,
   "metadata": {},
   "outputs": [
    {
     "name": "stdout",
     "output_type": "stream",
     "text": [
      "進捗: |█-------------------------------------------------| 3.75%\n"
     ]
    },
    {
     "ename": "",
     "evalue": "",
     "output_type": "error",
     "traceback": [
      "\u001b[1;31m現在のセルまたは前のセルでコードを実行中に、カーネル (Kernel) がクラッシュしました。\n",
      "\u001b[1;31mエラーの原因を特定するには、セル内のコードを確認してください。\n",
      "\u001b[1;31m詳細については<a href='https://aka.ms/vscodeJupyterKernelCrash'>こちら</a>をクリックします。\n",
      "\u001b[1;31m詳細については、Jupyter <a href='command:jupyter.viewOutput'>ログ</a> を参照してください。"
     ]
    }
   ],
   "source": [
    "def display_progress(current, total):\n",
    "    progress_percentage = (current / total) * 100\n",
    "    progress_bar_length = 50  # バーの長さ\n",
    "    filled_length = int(progress_bar_length * current // total)\n",
    "    \n",
    "    bar = '█' * filled_length + '-' * (progress_bar_length - filled_length)\n",
    "    print(f'進捗: |{bar}| {progress_percentage:.2f}%')\n",
    "\n",
    "def main():\n",
    "    total_problems = 800\n",
    "    solved_problems = int(input(\"解いた問題数を入力してください: \"))\n",
    "    if solved_problems > total_problems:\n",
    "        print(\"解いた問題数が総問題数を超えています。\")\n",
    "    else:\n",
    "        display_progress(solved_problems, total_problems)\n",
    "        if solved_problems == total_problems:\n",
    "            print(\"全問解きました！お疲れ様です！\")\n",
    "\n",
    "if __name__ == \"__main__\":\n",
    "    main()\n"
   ]
  }
 ],
 "metadata": {
  "kernelspec": {
   "display_name": "Python 3",
   "language": "python",
   "name": "python3"
  },
  "language_info": {
   "codemirror_mode": {
    "name": "ipython",
    "version": 3
   },
   "file_extension": ".py",
   "mimetype": "text/x-python",
   "name": "python",
   "nbconvert_exporter": "python",
   "pygments_lexer": "ipython3",
   "version": "3.12.3"
  }
 },
 "nbformat": 4,
 "nbformat_minor": 2
}
